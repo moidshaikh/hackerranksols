{
 "cells": [
  {
   "cell_type": "code",
   "execution_count": 35,
   "id": "7a2c9e2f-1968-40a3-bf1e-365e6ba9a31e",
   "metadata": {},
   "outputs": [],
   "source": [
    "import pandas as pd\n",
    "\n",
    "def look_and_say(s, n=40):\n",
    "    df = pd.DataFrame()\n",
    "    index = []\n",
    "    num, lens = [], []\n",
    "    for i in range(n+1):\n",
    "        index.append(i)\n",
    "        num.append(s)\n",
    "        lens.append(len(s))\n",
    "        s = generate_next(s)\n",
    "        # print(f\"iteration: {i}, res: {s}\")\n",
    "    df['index'] = index\n",
    "    df['num'] = num\n",
    "    df['len'] = lens\n",
    "    return df\n",
    "\n",
    "def generate_next(s):\n",
    "    result = \"\"\n",
    "    count = 1\n",
    "    for i in range(1, len(s)):\n",
    "        if s[i] == s[i-1]:\n",
    "            count += 1\n",
    "        else:\n",
    "            result += str(count) + s[i-1]\n",
    "            count = 1\n",
    "    result += str(count) + s[-1]\n",
    "    return result\n",
    "\n",
    "# Example usage\n",
    "input_str = \"3113322113\"\n",
    "df = look_and_say(input_str, 40)\n",
    "# print(df)\n",
    "\n",
    "# df.to_csv('output.csv', index=False)"
   ]
  },
  {
   "cell_type": "code",
   "execution_count": 27,
   "id": "be600962-a386-4bca-9685-f32e18eb989c",
   "metadata": {},
   "outputs": [],
   "source": [
    "# print(look_and_say('1'))\n",
    "# print(look_and_say('11'))\n",
    "# print(look_and_say('12'))\n",
    "# print(look_and_say('111221'))\n",
    "\n"
   ]
  },
  {
   "cell_type": "code",
   "execution_count": null,
   "id": "0705dd96-082e-4d87-adec-2ecbbef66ea4",
   "metadata": {},
   "outputs": [],
   "source": [
    "312211"
   ]
  }
 ],
 "metadata": {
  "kernelspec": {
   "display_name": "Python 3 (ipykernel)",
   "language": "python",
   "name": "python3"
  },
  "language_info": {
   "codemirror_mode": {
    "name": "ipython",
    "version": 3
   },
   "file_extension": ".py",
   "mimetype": "text/x-python",
   "name": "python",
   "nbconvert_exporter": "python",
   "pygments_lexer": "ipython3",
   "version": "3.9.12"
  }
 },
 "nbformat": 4,
 "nbformat_minor": 5
}
